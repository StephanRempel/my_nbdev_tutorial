{
 "cells": [
  {
   "cell_type": "code",
   "execution_count": null,
   "metadata": {},
   "outputs": [],
   "source": [
    "#hide\n",
    "from my_nbdev_tutorial import *"
   ]
  },
  {
   "cell_type": "markdown",
   "metadata": {},
   "source": [
    "# my_nbdev_tutorial\n",
    "\n",
    "https://stephanrempel.github.io/my_nbdev_tutorial/\n",
    "\n",
    "> A minimal example of using nbdev to create a python library."
   ]
  },
  {
   "cell_type": "markdown",
   "metadata": {},
   "source": [
    "This file will become your README and also the index of your documentation."
   ]
  },
  {
   "cell_type": "markdown",
   "metadata": {},
   "source": [
    "## Install"
   ]
  },
  {
   "cell_type": "markdown",
   "metadata": {},
   "source": [
    "`pip install my_nbdev_tutorial`"
   ]
  },
  {
   "cell_type": "markdown",
   "metadata": {},
   "source": [
    "## How to use"
   ]
  },
  {
   "cell_type": "markdown",
   "metadata": {},
   "source": [
    "Playing cards in python!"
   ]
  },
  {
   "cell_type": "code",
   "execution_count": null,
   "metadata": {},
   "outputs": [
    {
     "name": "stdout",
     "output_type": "stream",
     "text": [
      "Number of playing cards in the deck: 52\n",
      "3 of Hearts\n"
     ]
    }
   ],
   "source": [
    "from my_nbdev_tutorial.deck import Deck\n",
    "from my_nbdev_tutorial.card import Card\n",
    "d = Deck()\n",
    "print(f'Number of playing cards in the deck: {len(d.cards)}')\n",
    "c = Card(2,3)\n",
    "print(str(c))\n",
    "d.add_card(c)"
   ]
  },
  {
   "cell_type": "code",
   "execution_count": null,
   "metadata": {},
   "outputs": [
    {
     "name": "stdout",
     "output_type": "stream",
     "text": [
      "3 of Hearts\n"
     ]
    }
   ],
   "source": [
    "card = d.pop_card()\n",
    "print(card)"
   ]
  },
  {
   "cell_type": "code",
   "execution_count": null,
   "metadata": {},
   "outputs": [],
   "source": []
  }
 ],
 "metadata": {
  "kernelspec": {
   "display_name": "Python 3",
   "language": "python",
   "name": "python3"
  }
 },
 "nbformat": 4,
 "nbformat_minor": 4
}
